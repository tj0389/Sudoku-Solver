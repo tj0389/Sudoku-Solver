{
 "cells": [
  {
   "cell_type": "code",
   "execution_count": 28,
   "metadata": {},
   "outputs": [],
   "source": [
    "import cv2\n",
    "import numpy as np\n",
    "from keras.models import load_model\n",
    "import matplotlib.pyplot as plt \n",
    "import helper        ### helper is a python file in the folder in which all function are made previously"
   ]
  },
  {
   "cell_type": "code",
   "execution_count": 29,
   "metadata": {},
   "outputs": [],
   "source": [
    "heightImg = 450\n",
    "widthImg = 450\n",
    "\n",
    "img=cv2.imread(\"test1.jpg\")\n",
    "img = cv2.resize(img, (widthImg, heightImg))  # RESIZE IMAGE TO MAKE IT A SQUARE IMAGE\n",
    "imgBlank = np.zeros((heightImg, widthImg, 3), np.uint8)  # CREATE A BLANK IMAGE FOR TESTING DEBUGING IF REQUIRED\n",
    "gray=cv2.cvtColor(img,cv2.COLOR_RGB2GRAY)\n",
    "img_threshold = cv2.adaptiveThreshold(gray,255,cv2.ADAPTIVE_THRESH_MEAN_C,cv2.THRESH_BINARY_INV,15,10)"
   ]
  },
  {
   "cell_type": "code",
   "execution_count": 30,
   "metadata": {},
   "outputs": [],
   "source": [
    "img_contour=imgBlank.copy()\n",
    "biggest,maxarea=helper.get_contour(img_threshold,img_contour)"
   ]
  },
  {
   "cell_type": "code",
   "execution_count": 31,
   "metadata": {},
   "outputs": [
    {
     "name": "stdout",
     "output_type": "stream",
     "text": [
      "[[9 0 6 0 0 0 2 0 0]\n",
      " [0 0 0 0 9 0 7 4 0]\n",
      " [0 6 0 0 7 0 0 0 9]\n",
      " [4 7 7 0 0 0 0 0 6]\n",
      " [0 0 1 7 5 9 0 0 0]\n",
      " [0 0 0 0 0 0 3 7 8]\n",
      " [5 0 0 6 0 6 0 7 0]\n",
      " [0 2 0 0 7 0 0 0 0]\n",
      " [0 0 6 0 0 0 1 5 7]]\n"
     ]
    }
   ],
   "source": [
    "imgwarpcolored=imgBlank.copy()\n",
    "if biggest.size!=0:\n",
    "    biggest=helper.reorder(biggest)\n",
    "    pts1=np.float32(biggest)\n",
    "    pts2=np.float32([[0,0],[widthImg,0],[0,heightImg],[widthImg,heightImg]])\n",
    "    matrix=cv2.getPerspectiveTransform(pts1,pts2)\n",
    "    imgwarpcolored=cv2.warpPerspective(img,matrix,(widthImg,heightImg))\n",
    "imgwarpcolored_gray = cv2.cvtColor(imgwarpcolored,cv2.COLOR_RGB2GRAY)\n",
    "imgwarpcolored_new = cv2.adaptiveThreshold(imgwarpcolored_gray,255,cv2.ADAPTIVE_THRESH_MEAN_C,cv2.THRESH_BINARY_INV,15,10)\n",
    "imgwarpcolored_new=cv2.bitwise_not(imgwarpcolored_new)\n",
    "model=load_model(\"best_model_2.h5\")\n",
    "result=helper.getPredection(imgwarpcolored_new,model)\n",
    "matrix=np.array(result)\n",
    "matrix=matrix.reshape(9,9)\n",
    "print(matrix)"
   ]
  },
  {
   "cell_type": "code",
   "execution_count": 32,
   "metadata": {},
   "outputs": [
    {
     "name": "stdout",
     "output_type": "stream",
     "text": [
      "[[0 1 0 1 1 1 0 1 1]\n",
      " [1 1 1 1 0 1 0 0 1]\n",
      " [1 0 1 1 0 1 1 1 0]\n",
      " [0 0 0 1 1 1 1 1 0]\n",
      " [1 1 0 0 0 0 1 1 1]\n",
      " [1 1 1 1 1 1 0 0 0]\n",
      " [0 1 1 0 1 0 1 0 1]\n",
      " [1 0 1 1 0 1 1 1 1]\n",
      " [1 1 0 1 1 1 0 0 0]]\n"
     ]
    }
   ],
   "source": [
    "imgsolveddigits=imgBlank.copy()\n",
    "imgdetecteddigit=imgBlank.copy()\n",
    "imgdetecteddigit=helper.displayNumbers(imgdetecteddigit,result,(0,0,153))\n",
    "imgdetecteddigit=helper.addGrid(imgdetecteddigit)\n",
    "numbers=np.asarray(result)\n",
    "posArray=np.where(numbers>0,0,1)\n",
    "matrix=np.array(posArray)\n",
    "matrix=matrix.reshape(9,9)\n",
    "print(matrix)"
   ]
  },
  {
   "cell_type": "code",
   "execution_count": 33,
   "metadata": {},
   "outputs": [
    {
     "name": "stdout",
     "output_type": "stream",
     "text": [
      "[array([9, 0, 6, 0, 0, 0, 2, 0, 0], dtype=int64), array([0, 0, 0, 0, 9, 0, 7, 4, 0], dtype=int64), array([0, 6, 0, 0, 7, 0, 0, 0, 9], dtype=int64), array([4, 7, 7, 0, 0, 0, 0, 0, 6], dtype=int64), array([0, 0, 1, 7, 5, 9, 0, 0, 0], dtype=int64), array([0, 0, 0, 0, 0, 0, 3, 7, 8], dtype=int64), array([5, 0, 0, 6, 0, 6, 0, 7, 0], dtype=int64), array([0, 2, 0, 0, 7, 0, 0, 0, 0], dtype=int64), array([0, 0, 6, 0, 0, 0, 1, 5, 7], dtype=int64)]\n",
      "[array([9, 0, 6, 0, 0, 0, 2, 0, 0], dtype=int64), array([0, 0, 0, 0, 9, 0, 7, 4, 0], dtype=int64), array([0, 6, 0, 0, 7, 0, 0, 0, 9], dtype=int64), array([4, 7, 7, 0, 0, 0, 0, 0, 6], dtype=int64), array([0, 0, 1, 7, 5, 9, 0, 0, 0], dtype=int64), array([0, 0, 0, 0, 0, 0, 3, 7, 8], dtype=int64), array([5, 0, 0, 6, 0, 6, 0, 7, 0], dtype=int64), array([0, 2, 0, 0, 7, 0, 0, 0, 0], dtype=int64), array([0, 0, 6, 0, 0, 0, 1, 5, 7], dtype=int64)]\n"
     ]
    }
   ],
   "source": [
    "board = np.array_split(numbers,9)\n",
    "print(board)\n",
    "try:\n",
    "    helper.solve(board)\n",
    "except:\n",
    "    pass\n",
    "print(board)\n",
    "flatList = []\n",
    "for sublist in board:\n",
    "    for item in sublist:\n",
    "        flatList.append(item)\n",
    "solvedNumbers =flatList*posArray\n",
    "imgsolveddigits=imgBlank.copy()\n",
    "imgsolveddigits= helper.displayNumbers(imgsolveddigits,solvedNumbers,(255,255,102))\n",
    "imgsolveddigits_new=imgsolveddigits.copy()\n",
    "imgsolveddigits=helper.addGrid(imgsolveddigits)"
   ]
  },
  {
   "cell_type": "code",
   "execution_count": 34,
   "metadata": {},
   "outputs": [],
   "source": [
    "pts2 = np.float32(biggest) # PREPARE POINTS FOR WARP\n",
    "pts1 =  np.float32([[0, 0],[widthImg, 0], [0, heightImg],[widthImg, heightImg]]) # PREPARE POINTS FOR WARP\n",
    "try:\n",
    "    matrix = cv2.getPerspectiveTransform(pts1, pts2)  # GER\n",
    "    imgInvWarpColored = img.copy()\n",
    "    imgInvWarpColored = cv2.warpPerspective(imgsolveddigits_new, matrix, (widthImg, heightImg))\n",
    "    imgInvWarpColored = cv2.bitwise_not(imgInvWarpColored)\n",
    "    imgInvWarpColored = cv2.bitwise_and(imgInvWarpColored,img)\n",
    "except:\n",
    "    print(\"Image is of Bad quality......Show another image......\")\n",
    "    imgInvWarpColored = img.copy()"
   ]
  },
  {
   "cell_type": "code",
   "execution_count": 35,
   "metadata": {},
   "outputs": [],
   "source": [
    "img_stack=helper.stackImages(([img,img_threshold,imgwarpcolored_new],\n",
    "                           [imgdetecteddigit,imgsolveddigits,imgInvWarpColored]),0.5)\n",
    "cv2.imshow('Image',img_stack)\n",
    "cv2.waitKey(0)\n",
    "cv2.destroyAllWindows()"
   ]
  },
  {
   "cell_type": "code",
   "execution_count": 38,
   "metadata": {},
   "outputs": [
    {
     "name": "stdout",
     "output_type": "stream",
     "text": [
      "Image is of Bad quality......Show another image......\n",
      "Image is of Bad quality......Show another image......\n",
      "Image is of Bad quality......Show another image......\n",
      "Image is of Bad quality......Show another image......\n",
      "Image is of Bad quality......Show another image......\n",
      "Image is of Bad quality......Show another image......\n"
     ]
    }
   ],
   "source": [
    "cap=cv2.VideoCapture(0)\n",
    "heightImg = 450\n",
    "widthImg = 450\n",
    "model=load_model(\"best_model_2.h5\")\n",
    "while True:\n",
    "    success,img=cap.read()\n",
    "    \n",
    "    if success==False:\n",
    "        continue\n",
    "    \n",
    "    img = cv2.resize(img, (widthImg, heightImg))  # RESIZE IMAGE TO MAKE IT A SQUARE IMAGE\n",
    "    imgBlank = np.zeros((heightImg, widthImg, 3), np.uint8)  # CREATE A BLANK IMAGE FOR TESTING DEBUGING IF REQUIRED\n",
    "    gray=cv2.cvtColor(img,cv2.COLOR_RGB2GRAY)\n",
    "    img_threshold = cv2.adaptiveThreshold(gray,255,cv2.ADAPTIVE_THRESH_MEAN_C,cv2.THRESH_BINARY_INV,15,10)\n",
    "    img_contour=imgBlank.copy()\n",
    "    biggest,maxarea=helper.get_contour(img_threshold,img_contour)\n",
    "    imgwarpcolored=imgBlank.copy()\n",
    "    if biggest.size!=0:\n",
    "        biggest=helper.reorder(biggest)\n",
    "        pts1=np.float32(biggest)\n",
    "        pts2=np.float32([[0,0],[widthImg,0],[0,heightImg],[widthImg,heightImg]])\n",
    "        matrix=cv2.getPerspectiveTransform(pts1,pts2)\n",
    "        imgwarpcolored=cv2.warpPerspective(img,matrix,(widthImg,heightImg))\n",
    "    imgwarpcolored_gray = cv2.cvtColor(imgwarpcolored,cv2.COLOR_RGB2GRAY)\n",
    "    imgwarpcolored_new = cv2.adaptiveThreshold(imgwarpcolored_gray,255,cv2.ADAPTIVE_THRESH_MEAN_C,cv2.THRESH_BINARY_INV,15,10)\n",
    "    imgwarpcolored_new=cv2.bitwise_not(imgwarpcolored_new)\n",
    "    \n",
    "    result=helper.getPredection(imgwarpcolored_new,model)\n",
    "    imgsolveddigits=imgBlank.copy()\n",
    "    imgdetecteddigit=imgBlank.copy()\n",
    "    imgdetecteddigit=helper.displayNumbers(imgdetecteddigit,result,(0,0,153))\n",
    "    imgdetecteddigit=helper.addGrid(imgdetecteddigit)\n",
    "    numbers=np.asarray(result)\n",
    "    posArray=np.where(numbers>0,0,1)\n",
    "    \n",
    "    board = np.array_split(numbers,9)\n",
    "    try:\n",
    "        helper.solve(board)\n",
    "    except:\n",
    "        pass\n",
    "    flatList = []\n",
    "    for sublist in board:\n",
    "        for item in sublist:\n",
    "            flatList.append(item)\n",
    "    solvedNumbers =flatList*posArray\n",
    "    imgsolveddigits=imgBlank.copy()\n",
    "    imgsolveddigits= helper.displayNumbers(imgsolveddigits,solvedNumbers,(255,255,102))\n",
    "    imgsolveddigits_new=imgsolveddigits.copy()\n",
    "    imgsolveddigits=helper.addGrid(imgsolveddigits)\n",
    "    \n",
    "    pts2 = np.float32(biggest) # PREPARE POINTS FOR WARP\n",
    "    pts1 =  np.float32([[0, 0],[widthImg, 0], [0, heightImg],[widthImg, heightImg]]) # PREPARE POINTS FOR WARP\n",
    "    try:\n",
    "        matrix = cv2.getPerspectiveTransform(pts1, pts2)  # GER\n",
    "        imgInvWarpColored = img.copy()\n",
    "        imgInvWarpColored = cv2.warpPerspective(imgsolveddigits_new, matrix, (widthImg, heightImg))\n",
    "        imgInvWarpColored = cv2.bitwise_not(imgInvWarpColored)\n",
    "        imgInvWarpColored = cv2.bitwise_and(imgInvWarpColored,img)\n",
    "    except:\n",
    "        print(\"Image is of Bad quality......Show another image......\")\n",
    "        imgInvWarpColored = img.copy()\n",
    "    \n",
    "    \n",
    "    #cv2.imshow(\"Gray Frame\",grey_frame)\n",
    "    img_stack=helper.stackImages(([img,img_threshold,imgwarpcolored_new],\n",
    "                           [imgdetecteddigit,imgsolveddigits,imgInvWarpColored]),0.5)\n",
    "    cv2.imshow('Image',img_stack)\n",
    "    #wait for user input -q then we stop the loop\n",
    "    \n",
    "    key_pressed=cv2.waitKey(1) & 0xFF     #as we want to return 64 bit and wait will retrun oly 32 bit\n",
    "    if key_pressed == ord('q'):  #ord return ascii value  \n",
    "        break\n",
    "    \n",
    "cap.release()\n",
    "cv2.destroyAllWindows()"
   ]
  },
  {
   "cell_type": "code",
   "execution_count": null,
   "metadata": {},
   "outputs": [],
   "source": []
  }
 ],
 "metadata": {
  "kernelspec": {
   "display_name": "Python 3",
   "language": "python",
   "name": "python3"
  },
  "language_info": {
   "codemirror_mode": {
    "name": "ipython",
    "version": 3
   },
   "file_extension": ".py",
   "mimetype": "text/x-python",
   "name": "python",
   "nbconvert_exporter": "python",
   "pygments_lexer": "ipython3",
   "version": "3.8.3"
  }
 },
 "nbformat": 4,
 "nbformat_minor": 4
}
